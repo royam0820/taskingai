{
  "nbformat": 4,
  "nbformat_minor": 0,
  "metadata": {
    "colab": {
      "provenance": [],
      "authorship_tag": "ABX9TyNyVyqxGf4Knv5bt5G0uLCO",
      "include_colab_link": true
    },
    "kernelspec": {
      "name": "python3",
      "display_name": "Python 3"
    },
    "language_info": {
      "name": "python"
    }
  },
  "cells": [
    {
      "cell_type": "markdown",
      "metadata": {
        "id": "view-in-github",
        "colab_type": "text"
      },
      "source": [
        "<a href=\"https://colab.research.google.com/github/royam0820/taskingai/blob/main/taskingai_assistant_collection_retrieval.ipynb\" target=\"_parent\"><img src=\"https://colab.research.google.com/assets/colab-badge.svg\" alt=\"Open In Colab\"/></a>"
      ]
    },
    {
      "cell_type": "code",
      "execution_count": null,
      "metadata": {
        "id": "nTqtHASO1T3X"
      },
      "outputs": [],
      "source": [
        "!pip install taskingai"
      ]
    },
    {
      "cell_type": "code",
      "source": [
        "import taskingai\n",
        "import os"
      ],
      "metadata": {
        "id": "gptgrxgt2gKD"
      },
      "execution_count": null,
      "outputs": []
    },
    {
      "cell_type": "code",
      "source": [
        "from google.colab import userdata\n",
        "# Set the environment variable to be the value stored in user secrets.\n",
        "os.environ['OPENAI_API_KEY'] = userdata.get('OPENAI_API_KEY')\n",
        "os.environ[\"TASKINGAI_API_KEY\"] =  userdata.get('TASKINGAI_API_KEY')"
      ],
      "metadata": {
        "id": "fnK1Caba7M4n"
      },
      "execution_count": null,
      "outputs": []
    },
    {
      "cell_type": "code",
      "source": [
        "taskingai.init(api_key=os.environ[\"TASKINGAI_API_KEY\"])"
      ],
      "metadata": {
        "id": "Wbyxny1H2npv"
      },
      "execution_count": null,
      "outputs": []
    },
    {
      "cell_type": "code",
      "source": [
        "# create a collection\n",
        "collection = taskingai.retrieval.create_collection(\n",
        "    name=\"MySDKCollection\",\n",
        "    embedding_model_id=\"TpZAZqW9\",  #gpt4-small-model-embeddings\n",
        "    capacity=1000,\n",
        ")"
      ],
      "metadata": {
        "id": "FZ6f88F_2hpw"
      },
      "execution_count": null,
      "outputs": []
    },
    {
      "cell_type": "code",
      "source": [
        "# create record inside the collection\n",
        "from taskingai.retrieval import Record, TokenTextSplitter\n",
        "record = taskingai.retrieval.create_record(\n",
        "    collection_id=\"DbgYsRwyywg3e3N5850p6pC6\",\n",
        "    type=\"text\",\n",
        "    content=\"Machine learning is a subfield of artificial intelligence...\",\n",
        "    text_splitter={\"type\": \"token\", \"chunk_size\": 200, \"chunk_overlap\": 20},\n",
        "    metadata= {\"file_name\":\"machine_learning.pdf\"}\n",
        ")\n",
        "\n"
      ],
      "metadata": {
        "id": "UhtBMxdo-5mF"
      },
      "execution_count": null,
      "outputs": []
    },
    {
      "cell_type": "code",
      "source": [
        "# create an assistant\n",
        "import taskingai\n",
        "from taskingai.assistant.assistant import AssistantRetrieval, AssistantRetrievalType\n",
        "from taskingai.assistant.memory import AssistantNaiveMemory\n",
        "\n",
        "assistant = taskingai.assistant.create_assistant(\n",
        "    model_id=\"TpQuiRBb\",\n",
        "    name=\"My Assistant\",\n",
        "    description=\"This is my assistant\",\n",
        "    system_prompt_template=[\"You are a professional assistant speaking {{language}}.\"],\n",
        "    memory={\"type\": \"naive\"},\n",
        "    tools=[],\n",
        "    retrievals=[\n",
        "        AssistantRetrieval(\n",
        "            type=AssistantRetrievalType.COLLECTION,\n",
        "            id=collection.collection_id,\n",
        "        )\n",
        "    ],\n",
        ")"
      ],
      "metadata": {
        "id": "ahgNYsEFAFRD"
      },
      "execution_count": null,
      "outputs": []
    },
    {
      "cell_type": "markdown",
      "source": [
        "Here are the parameters for the create_assistant method:\n",
        "\n",
        "- `model_id`: The ID of a chat completion model available in your project.\n",
        "- `memory`: Specifies the memory configuration for the assistant. Learn more about memory.\n",
        "- `name` (Optional): The name for the assistant.\n",
        "- `description` (Optional): A brief description of the assistant.\n",
        "- `system_prompt_template` (Optional): A list of system prompt chunks for defining the assistant's conversational flow and context. Prompt variables are wrapped in curly brackets. Learn more about system prompt templates.\n",
        "- `tools` (Optional): A list of tools to enhance the assistant's capabilities. Learn more about tool integrations.\n",
        "- `retrievals` (Optional): A list of retrieval configurations for the assistant. Learn more about retrieval integrations.\n",
        "- `metadata` (Optional): Additional metadata for the assistant. Can store up to 16 key-value pairs.\n",
        "\n",
        "The create_assistant method returns a new Assistant object. This object contains various properties and configurations of the newly created assistant, reflecting the settings and options specified during creation"
      ],
      "metadata": {
        "id": "CSnnq8EEAYAw"
      }
    },
    {
      "cell_type": "code",
      "source": [
        "# create a chat id\n",
        "chat = taskingai.assistant.create_chat(\n",
        "    assistant_id=assistant.assistant_id,\n",
        ")\n",
        "print(f\"created chat: {chat.chat_id}\\n\")\n"
      ],
      "metadata": {
        "id": "pN2vXfmnyYDv",
        "colab": {
          "base_uri": "https://localhost:8080/"
        },
        "outputId": "32c68fc0-8c9d-4e33-8fe3-dff601d55791"
      },
      "execution_count": null,
      "outputs": [
        {
          "output_type": "stream",
          "name": "stdout",
          "text": [
            "created chat: SdELT8WxXCiOpdOChEZxtBoA\n",
            "\n"
          ]
        }
      ]
    },
    {
      "cell_type": "code",
      "source": [
        "# create a message\n",
        "from taskingai.assistant import Message, MessageChunk\n",
        "\n",
        "user_message = taskingai.assistant.create_message(\n",
        "    assistant_id=assistant.assistant_id,\n",
        "    chat_id=chat.chat_id,\n",
        "    text=\"In which country is Paris?\",\n",
        ")\n",
        "\n"
      ],
      "metadata": {
        "id": "Brr1DKkWEXHV"
      },
      "execution_count": null,
      "outputs": []
    },
    {
      "cell_type": "code",
      "source": [
        "assistant_message = taskingai.assistant.generate_message(\n",
        "    assistant_id=assistant.assistant_id,\n",
        "    chat_id=chat.chat_id,\n",
        ")\n",
        "\n",
        "print(f\"Assistant: {assistant_message.content.text}\")"
      ],
      "metadata": {
        "id": "eNmxGFZ4FilZ"
      },
      "execution_count": null,
      "outputs": []
    },
    {
      "cell_type": "code",
      "source": [],
      "metadata": {
        "id": "r_z_lOmnG2kL"
      },
      "execution_count": null,
      "outputs": []
    },
    {
      "cell_type": "code",
      "source": [
        "# create a new message\n",
        "user_message = taskingai.assistant.create_message(\n",
        "    assistant_id=assistant.assistant_id,\n",
        "    chat_id=chat.chat_id,\n",
        "    text=\"What to eat th\",\n",
        ")\n",
        "\n"
      ],
      "metadata": {
        "id": "K-IQIz8jG8G7"
      },
      "execution_count": null,
      "outputs": []
    },
    {
      "cell_type": "code",
      "source": [
        "assistant_message = taskingai.assistant.generate_message(\n",
        "    assistant_id=assistant.assistant_id,\n",
        "    chat_id=chat.chat_id,\n",
        ")\n",
        "\n",
        "print(f\"Assistant: {assistant_message.content.text}\")"
      ],
      "metadata": {
        "colab": {
          "base_uri": "https://localhost:8080/"
        },
        "id": "vc7byCJuG25c",
        "outputId": "0c02f8c0-cc59-4ca9-e2b2-776a7f8793c5"
      },
      "execution_count": null,
      "outputs": [
        {
          "output_type": "stream",
          "name": "stdout",
          "text": [
            "object='Message' message_id='Mah1lnfXvFvG05Nz1rRrSYM1' chat_id='SdELT8WxXCiOpdOChEZxtBoA' assistant_id='X5lMni3vhHstw5FApitA6OWL' role='assistant' content=MessageContent(text=\"Paris, France is known for its exceptional cuisine. Some popular foods to eat in Paris include:\\n\\n1. Baguettes: A staple in French cuisine, it's a must-try when in Paris.\\n2. Croissants: This buttery, flaky pastry is perfect for breakfast.\\n3. Escargot: Snails cooked with butter, garlic, and parsley.\\n4. Coq au Vin: A chicken dish cooked in red wine.\\n5. Ratatouille: A vegetable stew consisting of bell peppers, eggplant, zucchini, and tomatoes.\\n6. Crêpes: Thin pancakes that can be filled with sweet or savory fillings.\\n7. Bouillabaisse: A traditional fish stew.\\n8. Croque Monsieur: A grilled ham and cheese sandwich.\\n9. Soupe à l'oignon: Onion soup topped with melted cheese and a piece of bread.\\n10. Duck Confit: Duck leg slow-cooked in its own fat.\\n\\nAnd don't forget to try some French desserts like éclairs, Macarons, Tarte Tatin, and Crème Brûlée.\") metadata={} logs=[] updated_timestamp=1716629866575 created_timestamp=1716629866575\n"
          ]
        }
      ]
    },
    {
      "cell_type": "code",
      "source": [
        "print(f\"Assistant: {assistant_message.content.text}\")"
      ],
      "metadata": {
        "colab": {
          "base_uri": "https://localhost:8080/"
        },
        "id": "E4Lv8XurHpBC",
        "outputId": "ff1276c3-b5a5-4112-a442-e90ab4c4e6c5"
      },
      "execution_count": null,
      "outputs": [
        {
          "output_type": "stream",
          "name": "stdout",
          "text": [
            "Assistant: Paris, France is known for its exceptional cuisine. Some popular foods to eat in Paris include:\n",
            "\n",
            "1. Baguettes: A staple in French cuisine, it's a must-try when in Paris.\n",
            "2. Croissants: This buttery, flaky pastry is perfect for breakfast.\n",
            "3. Escargot: Snails cooked with butter, garlic, and parsley.\n",
            "4. Coq au Vin: A chicken dish cooked in red wine.\n",
            "5. Ratatouille: A vegetable stew consisting of bell peppers, eggplant, zucchini, and tomatoes.\n",
            "6. Crêpes: Thin pancakes that can be filled with sweet or savory fillings.\n",
            "7. Bouillabaisse: A traditional fish stew.\n",
            "8. Croque Monsieur: A grilled ham and cheese sandwich.\n",
            "9. Soupe à l'oignon: Onion soup topped with melted cheese and a piece of bread.\n",
            "10. Duck Confit: Duck leg slow-cooked in its own fat.\n",
            "\n",
            "And don't forget to try some French desserts like éclairs, Macarons, Tarte Tatin, and Crème Brûlée.\n"
          ]
        }
      ]
    }
  ]
}