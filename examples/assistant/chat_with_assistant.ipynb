{
  "cells": [
    {
      "cell_type": "code",
      "source": [
        "!pip install taskingai"
      ],
      "metadata": {
        "id": "JNYuhNcY1e4v",
        "outputId": "19f6fb75-6688-4f5e-8035-dd9039dfa86c",
        "colab": {
          "base_uri": "https://localhost:8080/"
        }
      },
      "id": "JNYuhNcY1e4v",
      "execution_count": 4,
      "outputs": [
        {
          "output_type": "stream",
          "name": "stdout",
          "text": [
            "Collecting taskingai\n",
            "  Downloading taskingai-0.2.5-py3-none-any.whl (136 kB)\n",
            "\u001b[?25l     \u001b[90m━━━━━━━━━━━━━━━━━━━━━━━━━━━━━━━━━━━━━━━━\u001b[0m \u001b[32m0.0/136.1 kB\u001b[0m \u001b[31m?\u001b[0m eta \u001b[36m-:--:--\u001b[0m\r\u001b[2K     \u001b[91m━━━━━━━━━━━━━━━━━━━━━━━━━━━━━━━━━━━━━━━\u001b[0m\u001b[90m╺\u001b[0m \u001b[32m133.1/136.1 kB\u001b[0m \u001b[31m4.3 MB/s\u001b[0m eta \u001b[36m0:00:01\u001b[0m\r\u001b[2K     \u001b[90m━━━━━━━━━━━━━━━━━━━━━━━━━━━━━━━━━━━━━━━━\u001b[0m \u001b[32m136.1/136.1 kB\u001b[0m \u001b[31m3.5 MB/s\u001b[0m eta \u001b[36m0:00:00\u001b[0m\n",
            "\u001b[?25hRequirement already satisfied: certifi>=14.05.14 in /usr/local/lib/python3.10/dist-packages (from taskingai) (2024.2.2)\n",
            "Requirement already satisfied: six>=1.10 in /usr/local/lib/python3.10/dist-packages (from taskingai) (1.16.0)\n",
            "Requirement already satisfied: python-dateutil>=2.5.3 in /usr/local/lib/python3.10/dist-packages (from taskingai) (2.8.2)\n",
            "Requirement already satisfied: setuptools>=21.0.0 in /usr/local/lib/python3.10/dist-packages (from taskingai) (67.7.2)\n",
            "Collecting httpx>=0.23.0 (from taskingai)\n",
            "  Downloading httpx-0.27.0-py3-none-any.whl (75 kB)\n",
            "\u001b[2K     \u001b[90m━━━━━━━━━━━━━━━━━━━━━━━━━━━━━━━━━━━━━━━━\u001b[0m \u001b[32m75.6/75.6 kB\u001b[0m \u001b[31m7.1 MB/s\u001b[0m eta \u001b[36m0:00:00\u001b[0m\n",
            "\u001b[?25hRequirement already satisfied: pydantic>=2.5.0 in /usr/local/lib/python3.10/dist-packages (from taskingai) (2.7.1)\n",
            "Requirement already satisfied: anyio in /usr/local/lib/python3.10/dist-packages (from httpx>=0.23.0->taskingai) (3.7.1)\n",
            "Collecting httpcore==1.* (from httpx>=0.23.0->taskingai)\n",
            "  Downloading httpcore-1.0.5-py3-none-any.whl (77 kB)\n",
            "\u001b[2K     \u001b[90m━━━━━━━━━━━━━━━━━━━━━━━━━━━━━━━━━━━━━━━━\u001b[0m \u001b[32m77.9/77.9 kB\u001b[0m \u001b[31m5.6 MB/s\u001b[0m eta \u001b[36m0:00:00\u001b[0m\n",
            "\u001b[?25hRequirement already satisfied: idna in /usr/local/lib/python3.10/dist-packages (from httpx>=0.23.0->taskingai) (3.7)\n",
            "Requirement already satisfied: sniffio in /usr/local/lib/python3.10/dist-packages (from httpx>=0.23.0->taskingai) (1.3.1)\n",
            "Collecting h11<0.15,>=0.13 (from httpcore==1.*->httpx>=0.23.0->taskingai)\n",
            "  Downloading h11-0.14.0-py3-none-any.whl (58 kB)\n",
            "\u001b[2K     \u001b[90m━━━━━━━━━━━━━━━━━━━━━━━━━━━━━━━━━━━━━━━━\u001b[0m \u001b[32m58.3/58.3 kB\u001b[0m \u001b[31m7.4 MB/s\u001b[0m eta \u001b[36m0:00:00\u001b[0m\n",
            "\u001b[?25hRequirement already satisfied: annotated-types>=0.4.0 in /usr/local/lib/python3.10/dist-packages (from pydantic>=2.5.0->taskingai) (0.7.0)\n",
            "Requirement already satisfied: pydantic-core==2.18.2 in /usr/local/lib/python3.10/dist-packages (from pydantic>=2.5.0->taskingai) (2.18.2)\n",
            "Requirement already satisfied: typing-extensions>=4.6.1 in /usr/local/lib/python3.10/dist-packages (from pydantic>=2.5.0->taskingai) (4.11.0)\n",
            "Requirement already satisfied: exceptiongroup in /usr/local/lib/python3.10/dist-packages (from anyio->httpx>=0.23.0->taskingai) (1.2.1)\n",
            "Installing collected packages: h11, httpcore, httpx, taskingai\n",
            "Successfully installed h11-0.14.0 httpcore-1.0.5 httpx-0.27.0 taskingai-0.2.5\n"
          ]
        }
      ]
    },
    {
      "cell_type": "code",
      "id": "initial_id",
      "metadata": {
        "collapsed": true,
        "id": "initial_id"
      },
      "source": [
        "import time\n",
        "import os\n",
        "import taskingai\n"
      ],
      "outputs": [],
      "execution_count": 5
    },
    {
      "cell_type": "code",
      "source": [
        "# Load TaskingAI API Key from environment variable\n",
        "from google.colab import userdata\n",
        "# Set the environment variable to be the value stored in user secrets.\n",
        "os.environ['OPENAI_API_KEY'] = userdata.get('OPENAI_API_KEY')\n",
        "os.environ[\"TASKINGAI_API_KEY\"] =  userdata.get('TASKINGAI_API_KEY')"
      ],
      "metadata": {
        "id": "YAQKO2N31Wcd"
      },
      "id": "YAQKO2N31Wcd",
      "execution_count": 6,
      "outputs": []
    },
    {
      "cell_type": "code",
      "source": [
        "# Taskingai initianlization\n",
        "taskingai.init(api_key=os.environ[\"TASKINGAI_API_KEY\"])"
      ],
      "metadata": {
        "id": "9uL88yOT1zMt"
      },
      "id": "9uL88yOT1zMt",
      "execution_count": 7,
      "outputs": []
    },
    {
      "cell_type": "markdown",
      "source": [
        "# TaskingAI: Chat with Assistant Example\n",
        "\n",
        "In this example, we will first create an assistant who knows the meaning of various numbers and will explain it in certain language.\n",
        "Then we will start a chat with the assistant."
      ],
      "metadata": {
        "collapsed": false,
        "id": "4ca20b4a868dedd8"
      },
      "id": "4ca20b4a868dedd8"
    },
    {
      "cell_type": "markdown",
      "source": [
        "##  Create Assistant"
      ],
      "metadata": {
        "collapsed": false,
        "id": "5e19ac923d84e898"
      },
      "id": "5e19ac923d84e898"
    },
    {
      "cell_type": "code",
      "source": [
        "from taskingai.tool import Action, ActionAuthentication, ActionAuthenticationType\n",
        "from typing import List\n",
        "\n",
        "# create an assistant action\n",
        "NUMBERS_API_SCHEMA = {\n",
        "        \"openapi\": \"3.0.0\",\n",
        "        \"info\": {\n",
        "            \"title\": \"Numbers API\",\n",
        "            \"version\": \"1.0.0\",\n",
        "            \"description\": \"API for fetching interesting number facts\"\n",
        "        },\n",
        "        \"servers\": [\n",
        "            {\n",
        "            \"url\": \"http://numbersapi.com\"\n",
        "            }\n",
        "        ],\n",
        "        \"paths\": {\n",
        "            \"/{number}\": {\n",
        "            \"get\": {\n",
        "                \"description\": \"Get a fact about a number\",\n",
        "                \"operationId\": \"getNumberFact\",\n",
        "                \"parameters\": [\n",
        "                {\n",
        "                    \"name\": \"number\",\n",
        "                    \"in\": \"path\",\n",
        "                    \"required\": True,\n",
        "                    \"description\": \"The number to get the fact for\",\n",
        "                    \"schema\": {\n",
        "                    \"type\": \"integer\"\n",
        "                    }\n",
        "                }\n",
        "                ],\n",
        "                \"responses\": {\n",
        "                \"200\": {\n",
        "                    \"description\": \"A fact about the number\",\n",
        "                    \"content\": {\n",
        "                    \"text/plain\": {\n",
        "                        \"schema\": {\n",
        "                        \"type\": \"string\"\n",
        "                        }\n",
        "                    }\n",
        "                    }\n",
        "                }\n",
        "                }\n",
        "            }\n",
        "        }\n",
        "    }\n",
        "}\n",
        "actions: List[Action] = taskingai.tool.bulk_create_actions(\n",
        "    openapi_schema=NUMBERS_API_SCHEMA,\n",
        "    authentication=ActionAuthentication(\n",
        "        type=ActionAuthenticationType.NONE,\n",
        "    )\n",
        ")\n",
        "action = actions[0]\n",
        "print(f\"created action: {action}\\n\")"
      ],
      "metadata": {
        "id": "3b2fda39ba58c5e9",
        "outputId": "991643ab-9145-4756-ee14-ae09f8434b80",
        "colab": {
          "base_uri": "https://localhost:8080/"
        }
      },
      "id": "3b2fda39ba58c5e9",
      "outputs": [
        {
          "output_type": "stream",
          "name": "stdout",
          "text": [
            "created action: object='Action' action_id='bFBdZYGFIKT60qU6Gkqxfz41' name='get_number_fact' operation_id='getNumberFact' description='Get a fact about a number' url='http://numbersapi.com/{number}' method=<ActionMethod.GET: 'GET'> body_type=<ActionBodyType.NONE: 'NONE'> openapi_schema={'info': {'title': 'Numbers API', 'version': '1.0.0', 'description': 'API for fetching interesting number facts'}, 'paths': {'/{number}': {'get': {'responses': {'200': {'content': {'text/plain': {'schema': {'type': 'string'}}}, 'description': 'A fact about the number'}}, 'parameters': [{'in': 'path', 'name': 'number', 'schema': {'type': 'integer'}, 'required': True, 'description': 'The number to get the fact for'}], 'description': 'Get a fact about a number', 'operationId': 'getNumberFact'}}}, 'openapi': '3.0.0', 'servers': [{'url': 'http://numbersapi.com'}], 'security': [], 'components': {}} authentication=ActionAuthentication(type=<ActionAuthenticationType.NONE: 'none'>, secret=None, content=None) updated_timestamp=1716826635813 created_timestamp=1716826635813\n",
            "\n"
          ]
        }
      ],
      "execution_count": 8
    },
    {
      "cell_type": "code",
      "source": [
        "from taskingai.assistant import Assistant, Chat, ToolRef, ToolType\n",
        "from taskingai.assistant.memory import AssistantMessageWindowMemory\n",
        "\n",
        "# choose an available chat_completion model from your project\n",
        "model_id = \"TpQuiRBb\" #gpt4\n",
        "\n",
        "assistant: Assistant = taskingai.assistant.create_assistant(\n",
        "    model_id=model_id,\n",
        "    name=\"My Assistant\",\n",
        "    description=\"A assistant who knows the meaning of various numbers.\",\n",
        "    memory=AssistantMessageWindowMemory(\n",
        "        max_messages=20,\n",
        "        max_tokens=1000\n",
        "    ),\n",
        "    system_prompt_template=[\n",
        "        \"You know the meaning of various numbers.\",\n",
        "        \"No matter what the user's language is, you will use the {{langugae}} to explain.\"\n",
        "    ],\n",
        "    tools=[\n",
        "        ToolRef(\n",
        "            type=ToolType.ACTION,\n",
        "            id=action.action_id,\n",
        "        )\n",
        "    ],\n",
        "    retrievals=[],\n",
        "    metadata={\"k\": \"v\"},\n",
        ")\n",
        "print(f\"created assistant: {assistant}\\n\")"
      ],
      "metadata": {
        "id": "3b3df0f232021283",
        "outputId": "38c5cbd1-678f-498f-cb46-6f8bca8f3eb2",
        "colab": {
          "base_uri": "https://localhost:8080/"
        }
      },
      "id": "3b3df0f232021283",
      "outputs": [
        {
          "output_type": "stream",
          "name": "stdout",
          "text": [
            "created assistant: object='Assistant' assistant_id='X5lMOCa2U7PHGOCL4b7Olbli' model_id='TpQuiRBb' name='My Assistant' description='A assistant who knows the meaning of various numbers.' system_prompt_template=['You know the meaning of various numbers.', \"No matter what the user's language is, you will use the {{langugae}} to explain.\"] memory=AssistantMemory(type=<AssistantMemoryType.MESSAGE_WINDOW: 'message_window'>, max_messages=20, max_tokens=1000) tools=[ToolRef(type=<ToolType.ACTION: 'action'>, id='bFBdZYGFIKT60qU6Gkqxfz41')] retrievals=[] retrieval_configs=RetrievalConfig(top_k=3, max_tokens=None, score_threshold=None, method=<RetrievalMethod.USER_MESSAGE: 'user_message'>, function_description=None) metadata={'k': 'v'} updated_timestamp=1716826741139 created_timestamp=1716826741139\n",
            "\n"
          ]
        }
      ],
      "execution_count": 10
    },
    {
      "cell_type": "markdown",
      "source": [
        "## Start a Chat"
      ],
      "metadata": {
        "collapsed": false,
        "id": "8e7c1b9461f0a344"
      },
      "id": "8e7c1b9461f0a344"
    },
    {
      "cell_type": "code",
      "source": [
        "chat: Chat = taskingai.assistant.create_chat(\n",
        "    assistant_id=assistant.assistant_id,\n",
        ")\n",
        "print(f\"created chat: {chat.chat_id}\\n\")"
      ],
      "metadata": {
        "id": "f1e2f0b2af8b1d8d",
        "outputId": "a8285c86-9977-45d0-e571-7cfe4e1332b3",
        "colab": {
          "base_uri": "https://localhost:8080/"
        }
      },
      "id": "f1e2f0b2af8b1d8d",
      "outputs": [
        {
          "output_type": "stream",
          "name": "stdout",
          "text": [
            "created chat: SdELaXlQ76dAzh5s3NxLKJmH\n",
            "\n"
          ]
        }
      ],
      "execution_count": 11
    },
    {
      "cell_type": "code",
      "source": [
        "from taskingai.assistant import Message, MessageChunk\n",
        "user_input = input(\"User Input: \")\n",
        "while user_input.strip() and user_input != \"q\":\n",
        "    # create user message\n",
        "    taskingai.assistant.create_message(\n",
        "        assistant_id=assistant.assistant_id,\n",
        "        chat_id=chat.chat_id,\n",
        "        text=user_input,\n",
        "    )\n",
        "    print(f\"User: {user_input}\")\n",
        "\n",
        "    # generate assistant response\n",
        "    assistant_message: Message = taskingai.assistant.generate_message(\n",
        "        assistant_id=assistant.assistant_id,\n",
        "        chat_id=chat.chat_id,\n",
        "        system_prompt_variables={\n",
        "            \"language\": \"English\"\n",
        "        }\n",
        "    )\n",
        "    print(f\"Assistant: {assistant_message.content.text}\")\n",
        "    time.sleep(2)\n",
        "    # quit by input 'q\n",
        "    user_input = input(\"User: \")"
      ],
      "metadata": {
        "id": "b26e30b79b71697a",
        "outputId": "20b3fd2b-28cb-4301-a966-2569d8b539d3",
        "colab": {
          "base_uri": "https://localhost:8080/"
        }
      },
      "id": "b26e30b79b71697a",
      "outputs": [
        {
          "name": "stdout",
          "output_type": "stream",
          "text": [
            "User Input: who is Oppenheimer\n",
            "User: who is Oppenheimer\n",
            "Assistant: J. Robert Oppenheimer was an American theoretical physicist, most famously known as the \"father of the atomic bomb\". He was a key contributor to the Manhattan Project, the World War II project that developed the first nuclear weapons. Post-war, Oppenheimer became a advocate for controlling nuclear power to avoid nuclear conflict and arms race.\n",
            "User: q\n"
          ]
        }
      ],
      "execution_count": 12
    },
    {
      "cell_type": "code",
      "source": [
        "user_input = input(\"User Input: \")\n",
        "while user_input.strip() and user_input != \"q\":\n",
        "    # create user message\n",
        "    user_message = taskingai.assistant.create_message(\n",
        "        assistant_id=assistant.assistant_id,\n",
        "        chat_id=chat.chat_id,\n",
        "        text=user_input,\n",
        "    )\n",
        "    print(f\"User: {user_input} ({user_message.message_id})\")\n",
        "\n",
        "    # generate assistant response\n",
        "    assistant_message_response = taskingai.assistant.generate_message(\n",
        "        assistant_id=assistant.assistant_id,\n",
        "        chat_id=chat.chat_id,\n",
        "        system_prompt_variables={\n",
        "            \"language\": \"English\"\n",
        "        },\n",
        "        stream=True,\n",
        "    )\n",
        "\n",
        "    print(f\"Assistant:\", end=\" \", flush=True)\n",
        "    for item in assistant_message_response:\n",
        "        if isinstance(item, MessageChunk):\n",
        "            print(item.delta, end=\"\", flush=True)\n",
        "        elif isinstance(item, Message):\n",
        "            print(f\" ({item.message_id})\")\n",
        "\n",
        "    time.sleep(2)\n",
        "    # quit by input 'q\n",
        "    user_input = input(\"User: \")"
      ],
      "metadata": {
        "id": "c7d73e0b138e3eba",
        "outputId": "66af95ef-de8b-41b3-e1af-dde3b777a275",
        "colab": {
          "base_uri": "https://localhost:8080/"
        }
      },
      "id": "c7d73e0b138e3eba",
      "outputs": [
        {
          "name": "stdout",
          "output_type": "stream",
          "text": [
            "User Input: what did he do\n",
            "User: what did he do (Mah1tewOwx2TcT8NseKPTPSk)\n",
            "Assistant: J. Robert Oppenheimer played a significant role in the development of atomic weapons. Here are his main contributions:\n",
            "\n",
            "1. Manhattan Project: A governmental research project during World War II, the Manhattan Project was directed towards making atomic weapons. Oppenheimer was appointed as the lead scientific director. Despite numerous challenges, he created a successful team which developed and detonated the first atomic bomb in 1945 in New Mexico.\n",
            "\n",
            "2. Creation of modern theoretical physics: Oppenheimer heavily contributed to the field of theoretical physics. He is known to have predicted the existence of black holes and neutron stars before they were discovered.\n",
            "\n",
            "3. Advocating for nuclear control: After the devastative use of atomic bombs in Hiroshima and Nagasaki, Oppenheimer became a strong advocate for controlling nuclear power. He worked diligently to make sure nuclear power was not used for destructive purposes and emphasized the need for international arms control.\n",
            "\n",
            "4. Serving in Advisory Roles: Post World War II, Oppenheimer played significant roles on several advisory committees, including the General Advisory Committee of the Atomic Energy Commission where he recommended against developing the hydrogen bomb.\n",
            "\n",
            "Despite his significant contributions, Oppenheimer's career was heavily affected during the McCarthy era when he was accused of having Communist affiliations and his security clearance was revoked. (Mah168T5ZcgXlds6Q7yzDxM5)\n",
            "User: q\n"
          ]
        }
      ],
      "execution_count": 13
    },
    {
      "cell_type": "code",
      "source": [
        "# list messages\n",
        "messages = taskingai.assistant.list_messages(\n",
        "    assistant_id=assistant.assistant_id,\n",
        "    chat_id=chat.chat_id,\n",
        "    order=\"asc\"\n",
        ")\n",
        "for message in messages:\n",
        "    print(f\"{message.role}: {message.content.text}\")"
      ],
      "metadata": {
        "id": "e94e3adb0d15373b",
        "outputId": "c28396ce-f72e-4a74-bb37-2d5f550613cf",
        "colab": {
          "base_uri": "https://localhost:8080/"
        }
      },
      "id": "e94e3adb0d15373b",
      "outputs": [
        {
          "output_type": "stream",
          "name": "stdout",
          "text": [
            "user: who is Oppenheimer\n",
            "assistant: J. Robert Oppenheimer was an American theoretical physicist, most famously known as the \"father of the atomic bomb\". He was a key contributor to the Manhattan Project, the World War II project that developed the first nuclear weapons. Post-war, Oppenheimer became a advocate for controlling nuclear power to avoid nuclear conflict and arms race.\n",
            "user: what did he do\n",
            "assistant: J. Robert Oppenheimer played a significant role in the development of atomic weapons. Here are his main contributions:\n",
            "\n",
            "1. Manhattan Project: A governmental research project during World War II, the Manhattan Project was directed towards making atomic weapons. Oppenheimer was appointed as the lead scientific director. Despite numerous challenges, he created a successful team which developed and detonated the first atomic bomb in 1945 in New Mexico.\n",
            "\n",
            "2. Creation of modern theoretical physics: Oppenheimer heavily contributed to the field of theoretical physics. He is known to have predicted the existence of black holes and neutron stars before they were discovered.\n",
            "\n",
            "3. Advocating for nuclear control: After the devastative use of atomic bombs in Hiroshima and Nagasaki, Oppenheimer became a strong advocate for controlling nuclear power. He worked diligently to make sure nuclear power was not used for destructive purposes and emphasized the need for international arms control.\n",
            "\n",
            "4. Serving in Advisory Roles: Post World War II, Oppenheimer played significant roles on several advisory committees, including the General Advisory Committee of the Atomic Energy Commission where he recommended against developing the hydrogen bomb.\n",
            "\n",
            "Despite his significant contributions, Oppenheimer's career was heavily affected during the McCarthy era when he was accused of having Communist affiliations and his security clearance was revoked.\n"
          ]
        }
      ],
      "execution_count": 14
    },
    {
      "cell_type": "code",
      "source": [
        "# delete assistant\n",
        "taskingai.assistant.delete_assistant(\n",
        "    assistant_id=assistant.assistant_id,\n",
        ")"
      ],
      "metadata": {
        "id": "ed39836bbfdc7a4e"
      },
      "id": "ed39836bbfdc7a4e",
      "outputs": [],
      "execution_count": 15
    }
  ],
  "metadata": {
    "kernelspec": {
      "display_name": "Python 3",
      "language": "python",
      "name": "python3"
    },
    "language_info": {
      "codemirror_mode": {
        "name": "ipython",
        "version": 2
      },
      "file_extension": ".py",
      "mimetype": "text/x-python",
      "name": "python",
      "nbconvert_exporter": "python",
      "pygments_lexer": "ipython2",
      "version": "2.7.6"
    },
    "colab": {
      "provenance": []
    }
  },
  "nbformat": 4,
  "nbformat_minor": 5
}