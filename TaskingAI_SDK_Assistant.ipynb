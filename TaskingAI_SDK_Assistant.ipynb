{
  "nbformat": 4,
  "nbformat_minor": 0,
  "metadata": {
    "colab": {
      "provenance": [],
      "authorship_tag": "ABX9TyMbpooRSaZh8Pk2fPtHNRg7",
      "include_colab_link": true
    },
    "kernelspec": {
      "name": "python3",
      "display_name": "Python 3"
    },
    "language_info": {
      "name": "python"
    }
  },
  "cells": [
    {
      "cell_type": "markdown",
      "metadata": {
        "id": "view-in-github",
        "colab_type": "text"
      },
      "source": [
        "<a href=\"https://colab.research.google.com/github/royam0820/taskingai/blob/main/TaskingAI_SDK_Assistant.ipynb\" target=\"_parent\"><img src=\"https://colab.research.google.com/assets/colab-badge.svg\" alt=\"Open In Colab\"/></a>"
      ]
    },
    {
      "cell_type": "markdown",
      "source": [
        "# TaskingAI: Chat with Assistant Example\n",
        "In this example, we will first create an assistant who knows the meaning of various numbers and will explain it in certain language. Then we will start a chat with the assistant."
      ],
      "metadata": {
        "id": "PzzDdXSlbrZk"
      }
    },
    {
      "cell_type": "markdown",
      "source": [
        "## Environment Setup"
      ],
      "metadata": {
        "id": "gzlZOvHjbwkc"
      }
    },
    {
      "cell_type": "code",
      "execution_count": null,
      "metadata": {
        "colab": {
          "base_uri": "https://localhost:8080/"
        },
        "id": "0Svvy_5FYI1M",
        "outputId": "d9792cdf-afdf-45c7-cbef-d886606d36da"
      },
      "outputs": [
        {
          "output_type": "stream",
          "name": "stdout",
          "text": [
            "Requirement already satisfied: taskingai in /usr/local/lib/python3.10/dist-packages (0.2.5)\n",
            "Requirement already satisfied: certifi>=14.05.14 in /usr/local/lib/python3.10/dist-packages (from taskingai) (2024.2.2)\n",
            "Requirement already satisfied: six>=1.10 in /usr/local/lib/python3.10/dist-packages (from taskingai) (1.16.0)\n",
            "Requirement already satisfied: python-dateutil>=2.5.3 in /usr/local/lib/python3.10/dist-packages (from taskingai) (2.8.2)\n",
            "Requirement already satisfied: setuptools>=21.0.0 in /usr/local/lib/python3.10/dist-packages (from taskingai) (67.7.2)\n",
            "Requirement already satisfied: httpx>=0.23.0 in /usr/local/lib/python3.10/dist-packages (from taskingai) (0.27.0)\n",
            "Requirement already satisfied: pydantic>=2.5.0 in /usr/local/lib/python3.10/dist-packages (from taskingai) (2.7.1)\n",
            "Requirement already satisfied: anyio in /usr/local/lib/python3.10/dist-packages (from httpx>=0.23.0->taskingai) (3.7.1)\n",
            "Requirement already satisfied: httpcore==1.* in /usr/local/lib/python3.10/dist-packages (from httpx>=0.23.0->taskingai) (1.0.5)\n",
            "Requirement already satisfied: idna in /usr/local/lib/python3.10/dist-packages (from httpx>=0.23.0->taskingai) (3.7)\n",
            "Requirement already satisfied: sniffio in /usr/local/lib/python3.10/dist-packages (from httpx>=0.23.0->taskingai) (1.3.1)\n",
            "Requirement already satisfied: h11<0.15,>=0.13 in /usr/local/lib/python3.10/dist-packages (from httpcore==1.*->httpx>=0.23.0->taskingai) (0.14.0)\n",
            "Requirement already satisfied: annotated-types>=0.4.0 in /usr/local/lib/python3.10/dist-packages (from pydantic>=2.5.0->taskingai) (0.7.0)\n",
            "Requirement already satisfied: pydantic-core==2.18.2 in /usr/local/lib/python3.10/dist-packages (from pydantic>=2.5.0->taskingai) (2.18.2)\n",
            "Requirement already satisfied: typing-extensions>=4.6.1 in /usr/local/lib/python3.10/dist-packages (from pydantic>=2.5.0->taskingai) (4.11.0)\n",
            "Requirement already satisfied: exceptiongroup in /usr/local/lib/python3.10/dist-packages (from anyio->httpx>=0.23.0->taskingai) (1.2.1)\n"
          ]
        }
      ],
      "source": [
        "!pip install taskingai"
      ]
    },
    {
      "cell_type": "code",
      "source": [
        "import time\n",
        "import os\n",
        "import taskingai"
      ],
      "metadata": {
        "id": "pv8PgsjjYlBC"
      },
      "execution_count": null,
      "outputs": []
    },
    {
      "cell_type": "code",
      "source": [],
      "metadata": {
        "id": "XqLWrUSH8sYG"
      },
      "execution_count": null,
      "outputs": []
    },
    {
      "cell_type": "code",
      "source": [
        "from google.colab import userdata\n",
        "# Set the environment variable to be the value stored in user secrets.\n",
        "os.environ['OPENAI_API_KEY'] = userdata.get('OPENAI_API_KEY')\n",
        "os.environ[\"TASKINGAI_API_KEY\"] =  userdata.get('TASKINGAI_API_KEY')"
      ],
      "metadata": {
        "id": "fnK1Caba7M4n"
      },
      "execution_count": 58,
      "outputs": []
    },
    {
      "cell_type": "code",
      "source": [],
      "metadata": {
        "id": "DE8WdSpTAEEn"
      },
      "execution_count": null,
      "outputs": []
    },
    {
      "cell_type": "code",
      "source": [
        "from google.colab import userdata\n",
        "# Set the environment variable to be the value stored in user secrets.\n",
        "os.environ['OPENAI_API_KEY'] = userdata.get('OPENAI_API_KEY')\n",
        "os.environ[\"TASKINGAI_API_KEY\"] =  userdata.get('TASKINGAI_API_KEY')\n"
      ],
      "metadata": {
        "id": "ZOuNmQc6AEd1"
      },
      "execution_count": 65,
      "outputs": []
    },
    {
      "cell_type": "code",
      "source": [
        "# testing the environment key to see if the right values have been assigned\n",
        "#os.environ['OPENAI_API_KEY']\n",
        "#os.environ[\"TASKINGAI_API_KEY\"]"
      ],
      "metadata": {
        "id": "N1u0T4Ifax0Z"
      },
      "execution_count": null,
      "outputs": []
    },
    {
      "cell_type": "code",
      "source": [
        "taskingai.init(api_key=os.environ[\"TASKINGAI_API_KEY\"] )"
      ],
      "metadata": {
        "id": "TGYjbMV73UlH"
      },
      "execution_count": 66,
      "outputs": []
    },
    {
      "cell_type": "markdown",
      "source": [
        "# Create Assistant"
      ],
      "metadata": {
        "id": "rj0e3i4Pb6dR"
      }
    },
    {
      "cell_type": "code",
      "source": [
        "from taskingai.tool import Action, ActionAuthentication, ActionAuthenticationType\n",
        "from typing import List\n",
        "\n",
        "# create an assistant action\n",
        "NUMBERS_API_SCHEMA = {\n",
        "  \"openapi\": \"3.0.0\",\n",
        "  \"info\": {\n",
        "    \"title\": \"Numbers API\",\n",
        "    \"version\": \"1.0.0\",\n",
        "    \"description\": \"API for fetching interesting number facts\"\n",
        "  },\n",
        "  \"servers\": [\n",
        "    {\n",
        "      \"url\": \"http://numbersapi.com\"\n",
        "    }\n",
        "  ],\n",
        "  \"paths\": {\n",
        "    \"/{number}\": {\n",
        "      \"get\": {\n",
        "        \"description\": \"Get a fact about a number\",\n",
        "        \"operationId\": \"getNumberFact\",\n",
        "        \"parameters\": [\n",
        "          {\n",
        "            \"name\": \"number\",\n",
        "            \"in\": \"path\",\n",
        "            \"required\": True,\n",
        "            \"description\": \"The number to get the fact for\",\n",
        "            \"schema\": {\n",
        "              \"type\": \"integer\"\n",
        "            }\n",
        "          }\n",
        "        ],\n",
        "        \"responses\": {\n",
        "          \"200\": {\n",
        "            \"description\": \"A fact about the number\",\n",
        "            \"content\": {\n",
        "              \"text/plain\": {\n",
        "                \"schema\": {\n",
        "                  \"type\": \"string\"\n",
        "                }\n",
        "              }\n",
        "            }\n",
        "          }\n",
        "        }\n",
        "      }\n",
        "    }\n",
        "  }\n",
        "}\n",
        "\n",
        "\n"
      ],
      "metadata": {
        "id": "geWfQDpkb-ym"
      },
      "execution_count": 67,
      "outputs": []
    },
    {
      "cell_type": "code",
      "source": [
        "from taskingai.tool import Action\n",
        "from taskingai.tool import ActionAuthentication, ActionAuthenticationType\n",
        "from typing import List\n",
        "\n",
        "actions: List[Action] = taskingai.tool.bulk_create_actions(\n",
        "    openapi_schema=NUMBERS_API_SCHEMA,\n",
        "    authentication=ActionAuthentication(\n",
        "        type=ActionAuthenticationType.NONE,\n",
        "    )\n",
        ")"
      ],
      "metadata": {
        "colab": {
          "base_uri": "https://localhost:8080/",
          "height": 460
        },
        "id": "nDX-DJNj0GrD",
        "outputId": "3a4fd988-f330-4f4e-88ab-626fb029ceb2"
      },
      "execution_count": 68,
      "outputs": [
        {
          "output_type": "error",
          "ename": "ApiException",
          "evalue": "(401)\nReason: Unauthorized\nHTTP response headers: Headers({'date': 'Sat, 25 May 2024 13:46:30 GMT', 'content-type': 'application/json', 'content-length': '100', 'connection': 'keep-alive', 'server': 'uvicorn', 'x-kong-upstream-latency': '1', 'x-kong-proxy-latency': '9', 'via': 'kong/3.5.0', 'x-kong-request-id': '8b010a694960f0676631e0565cfa387d'})\nHTTP response body: b'{\"status\":\"error\",\"error\":{\"code\":\"APIKEY_VALIDATION_FAILED\",\"message\":\"API Key validation failed\"}}'\n",
          "traceback": [
            "\u001b[0;31m---------------------------------------------------------------------------\u001b[0m",
            "\u001b[0;31mApiException\u001b[0m                              Traceback (most recent call last)",
            "\u001b[0;32m<ipython-input-68-3be9b768decb>\u001b[0m in \u001b[0;36m<cell line: 5>\u001b[0;34m()\u001b[0m\n\u001b[1;32m      3\u001b[0m \u001b[0;32mfrom\u001b[0m \u001b[0mtyping\u001b[0m \u001b[0;32mimport\u001b[0m \u001b[0mList\u001b[0m\u001b[0;34m\u001b[0m\u001b[0;34m\u001b[0m\u001b[0m\n\u001b[1;32m      4\u001b[0m \u001b[0;34m\u001b[0m\u001b[0m\n\u001b[0;32m----> 5\u001b[0;31m actions: List[Action] = taskingai.tool.bulk_create_actions(\n\u001b[0m\u001b[1;32m      6\u001b[0m     \u001b[0mopenapi_schema\u001b[0m\u001b[0;34m=\u001b[0m\u001b[0mNUMBERS_API_SCHEMA\u001b[0m\u001b[0;34m,\u001b[0m\u001b[0;34m\u001b[0m\u001b[0;34m\u001b[0m\u001b[0m\n\u001b[1;32m      7\u001b[0m     authentication=ActionAuthentication(\n",
            "\u001b[0;32m/usr/local/lib/python3.10/dist-packages/taskingai/tool/action.py\u001b[0m in \u001b[0;36mbulk_create_actions\u001b[0;34m(openapi_schema, authentication)\u001b[0m\n\u001b[1;32m    129\u001b[0m         \u001b[0mauthentication\u001b[0m\u001b[0;34m=\u001b[0m\u001b[0mauthentication\u001b[0m\u001b[0;34m,\u001b[0m\u001b[0;34m\u001b[0m\u001b[0;34m\u001b[0m\u001b[0m\n\u001b[1;32m    130\u001b[0m     )\n\u001b[0;32m--> 131\u001b[0;31m     \u001b[0mresponse\u001b[0m\u001b[0;34m:\u001b[0m \u001b[0mActionBulkCreateResponse\u001b[0m \u001b[0;34m=\u001b[0m \u001b[0mapi_bulk_create_actions\u001b[0m\u001b[0;34m(\u001b[0m\u001b[0mpayload\u001b[0m\u001b[0;34m=\u001b[0m\u001b[0mbody\u001b[0m\u001b[0;34m)\u001b[0m\u001b[0;34m\u001b[0m\u001b[0;34m\u001b[0m\u001b[0m\n\u001b[0m\u001b[1;32m    132\u001b[0m     \u001b[0;32mreturn\u001b[0m \u001b[0mresponse\u001b[0m\u001b[0;34m.\u001b[0m\u001b[0mdata\u001b[0m\u001b[0;34m\u001b[0m\u001b[0;34m\u001b[0m\u001b[0m\n\u001b[1;32m    133\u001b[0m \u001b[0;34m\u001b[0m\u001b[0m\n",
            "\u001b[0;32m/usr/local/lib/python3.10/dist-packages/taskingai/client/apis/api_bulk_create_actions.py\u001b[0m in \u001b[0;36mapi_bulk_create_actions\u001b[0;34m(payload, **kwargs)\u001b[0m\n\u001b[1;32m     33\u001b[0m \u001b[0;34m\u001b[0m\u001b[0m\n\u001b[1;32m     34\u001b[0m     \u001b[0;31m# execute the request\u001b[0m\u001b[0;34m\u001b[0m\u001b[0;34m\u001b[0m\u001b[0m\n\u001b[0;32m---> 35\u001b[0;31m     return sync_api_client.call_api(\n\u001b[0m\u001b[1;32m     36\u001b[0m         \u001b[0mresource_path\u001b[0m\u001b[0;34m=\u001b[0m\u001b[0;34m\"/v1/actions/bulk_create\"\u001b[0m\u001b[0;34m,\u001b[0m\u001b[0;34m\u001b[0m\u001b[0;34m\u001b[0m\u001b[0m\n\u001b[1;32m     37\u001b[0m         \u001b[0mmethod\u001b[0m\u001b[0;34m=\u001b[0m\u001b[0;34m\"POST\"\u001b[0m\u001b[0;34m,\u001b[0m\u001b[0;34m\u001b[0m\u001b[0;34m\u001b[0m\u001b[0m\n",
            "\u001b[0;32m/usr/local/lib/python3.10/dist-packages/taskingai/client/api_client.py\u001b[0m in \u001b[0;36mcall_api\u001b[0;34m(self, resource_path, method, path_params, query_params, header_params, body, post_params, files, response_type, auth_settings, _return_http_data_only, collection_formats, _preload_content, _request_timeout, stream)\u001b[0m\n\u001b[1;32m    312\u001b[0m         \u001b[0;34m:\u001b[0m\u001b[0;32mreturn\u001b[0m\u001b[0;34m:\u001b[0m \u001b[0mResponse\u001b[0m \u001b[0mobject\u001b[0m \u001b[0mdata\u001b[0m\u001b[0;34m.\u001b[0m\u001b[0;34m\u001b[0m\u001b[0;34m\u001b[0m\u001b[0m\n\u001b[1;32m    313\u001b[0m         \"\"\"\n\u001b[0;32m--> 314\u001b[0;31m         return self.__call_api(\n\u001b[0m\u001b[1;32m    315\u001b[0m             \u001b[0mresource_path\u001b[0m\u001b[0;34m,\u001b[0m\u001b[0;34m\u001b[0m\u001b[0;34m\u001b[0m\u001b[0m\n\u001b[1;32m    316\u001b[0m             \u001b[0mmethod\u001b[0m\u001b[0;34m,\u001b[0m\u001b[0;34m\u001b[0m\u001b[0;34m\u001b[0m\u001b[0m\n",
            "\u001b[0;32m/usr/local/lib/python3.10/dist-packages/taskingai/client/api_client.py\u001b[0m in \u001b[0;36m__call_api\u001b[0;34m(self, resource_path, method, path_params, query_params, header_params, body, post_params, files, response_type, auth_settings, _return_http_data_only, collection_formats, _preload_content, _request_timeout, stream)\u001b[0m\n\u001b[1;32m    235\u001b[0m \u001b[0;34m\u001b[0m\u001b[0m\n\u001b[1;32m    236\u001b[0m         \u001b[0;31m# perform request and return response\u001b[0m\u001b[0;34m\u001b[0m\u001b[0;34m\u001b[0m\u001b[0m\n\u001b[0;32m--> 237\u001b[0;31m         response_data = self.request(\n\u001b[0m\u001b[1;32m    238\u001b[0m             \u001b[0mmethod\u001b[0m\u001b[0;34m,\u001b[0m\u001b[0;34m\u001b[0m\u001b[0;34m\u001b[0m\u001b[0m\n\u001b[1;32m    239\u001b[0m             \u001b[0murl\u001b[0m\u001b[0;34m,\u001b[0m\u001b[0;34m\u001b[0m\u001b[0;34m\u001b[0m\u001b[0m\n",
            "\u001b[0;32m/usr/local/lib/python3.10/dist-packages/taskingai/client/api_client.py\u001b[0m in \u001b[0;36mrequest\u001b[0;34m(self, method, url, stream, query_params, headers, post_params, files, body, _preload_content, _request_timeout)\u001b[0m\n\u001b[1;32m    374\u001b[0m             )\n\u001b[1;32m    375\u001b[0m         \u001b[0;32melif\u001b[0m \u001b[0mmethod\u001b[0m \u001b[0;34m==\u001b[0m \u001b[0;34m\"POST\"\u001b[0m\u001b[0;34m:\u001b[0m\u001b[0;34m\u001b[0m\u001b[0;34m\u001b[0m\u001b[0m\n\u001b[0;32m--> 376\u001b[0;31m             return self.rest_client.POST(\n\u001b[0m\u001b[1;32m    377\u001b[0m                 \u001b[0murl\u001b[0m\u001b[0;34m,\u001b[0m\u001b[0;34m\u001b[0m\u001b[0;34m\u001b[0m\u001b[0m\n\u001b[1;32m    378\u001b[0m                 \u001b[0mstream\u001b[0m\u001b[0;34m=\u001b[0m\u001b[0mstream\u001b[0m\u001b[0;34m,\u001b[0m\u001b[0;34m\u001b[0m\u001b[0;34m\u001b[0m\u001b[0m\n",
            "\u001b[0;32m/usr/local/lib/python3.10/dist-packages/taskingai/client/rest.py\u001b[0m in \u001b[0;36mPOST\u001b[0;34m(self, url, stream, headers, query_params, post_params, files, body, _preload_content, _request_timeout)\u001b[0m\n\u001b[1;32m    255\u001b[0m         \u001b[0m_request_timeout\u001b[0m\u001b[0;34m=\u001b[0m\u001b[0;32mNone\u001b[0m\u001b[0;34m,\u001b[0m\u001b[0;34m\u001b[0m\u001b[0;34m\u001b[0m\u001b[0m\n\u001b[1;32m    256\u001b[0m     ):\n\u001b[0;32m--> 257\u001b[0;31m         return self.request(\n\u001b[0m\u001b[1;32m    258\u001b[0m             \u001b[0;34m\"POST\"\u001b[0m\u001b[0;34m,\u001b[0m\u001b[0;34m\u001b[0m\u001b[0;34m\u001b[0m\u001b[0m\n\u001b[1;32m    259\u001b[0m             \u001b[0murl\u001b[0m\u001b[0;34m,\u001b[0m\u001b[0;34m\u001b[0m\u001b[0;34m\u001b[0m\u001b[0m\n",
            "\u001b[0;32m/usr/local/lib/python3.10/dist-packages/taskingai/client/rest.py\u001b[0m in \u001b[0;36mrequest\u001b[0;34m(self, method, url, stream, query_params, headers, body, post_params, files, _preload_content, _request_timeout)\u001b[0m\n\u001b[1;32m    173\u001b[0m \u001b[0;34m\u001b[0m\u001b[0m\n\u001b[1;32m    174\u001b[0m         \u001b[0;32mif\u001b[0m \u001b[0;32mnot\u001b[0m \u001b[0;36m200\u001b[0m \u001b[0;34m<=\u001b[0m \u001b[0mr\u001b[0m\u001b[0;34m.\u001b[0m\u001b[0mstatus\u001b[0m \u001b[0;34m<=\u001b[0m \u001b[0;36m299\u001b[0m\u001b[0;34m:\u001b[0m\u001b[0;34m\u001b[0m\u001b[0;34m\u001b[0m\u001b[0m\n\u001b[0;32m--> 175\u001b[0;31m             \u001b[0;32mraise\u001b[0m \u001b[0mApiException\u001b[0m\u001b[0;34m(\u001b[0m\u001b[0mhttp_resp\u001b[0m\u001b[0;34m=\u001b[0m\u001b[0mr\u001b[0m\u001b[0;34m)\u001b[0m\u001b[0;34m\u001b[0m\u001b[0;34m\u001b[0m\u001b[0m\n\u001b[0m\u001b[1;32m    176\u001b[0m \u001b[0;34m\u001b[0m\u001b[0m\n\u001b[1;32m    177\u001b[0m         \u001b[0;32mreturn\u001b[0m \u001b[0mr\u001b[0m\u001b[0;34m\u001b[0m\u001b[0;34m\u001b[0m\u001b[0m\n",
            "\u001b[0;31mApiException\u001b[0m: (401)\nReason: Unauthorized\nHTTP response headers: Headers({'date': 'Sat, 25 May 2024 13:46:30 GMT', 'content-type': 'application/json', 'content-length': '100', 'connection': 'keep-alive', 'server': 'uvicorn', 'x-kong-upstream-latency': '1', 'x-kong-proxy-latency': '9', 'via': 'kong/3.5.0', 'x-kong-request-id': '8b010a694960f0676631e0565cfa387d'})\nHTTP response body: b'{\"status\":\"error\",\"error\":{\"code\":\"APIKEY_VALIDATION_FAILED\",\"message\":\"API Key validation failed\"}}'\n"
          ]
        }
      ]
    },
    {
      "cell_type": "code",
      "source": [
        "# actions: List[Action] = taskingai.tool.bulk_create_actions(\n",
        "#     openapi_schema=NUMBERS_API_SCHEMA,\n",
        "#     authentication=ActionAuthentication(\n",
        "#         type=ActionAuthenticationType.NONE,\n",
        "#     )\n",
        "# )\n",
        "# action = actions[0]\n",
        "# print(f\"created action: {action}\\n\")"
      ],
      "metadata": {
        "id": "oaueUhrZosEt"
      },
      "execution_count": null,
      "outputs": []
    },
    {
      "cell_type": "code",
      "source": [
        "from taskingai.assistant import Assistant, Chat, ToolRef, ToolType\n",
        "from taskingai.assistant.memory import AssistantMessageWindowMemory\n",
        "\n",
        "# choose an available chat_completion model from your project\n",
        "model_id = \"YOUR_CHAT_COMPLETION_MODEL_ID\"\n",
        "\n",
        "assistant: Assistant = taskingai.assistant.create_assistant(\n",
        "    model_id=model_id,\n",
        "    name=\"My Assistant\",\n",
        "    description=\"A assistant who knows the meaning of various numbers.\",\n",
        "    memory=AssistantMessageWindowMemory(\n",
        "        max_messages=20,\n",
        "        max_tokens=1000\n",
        "    ),\n",
        "    system_prompt_template=[\n",
        "        \"You know the meaning of various numbers.\",\n",
        "        \"No matter what the user's language is, you will use the {{langugae}} to explain.\"\n",
        "    ],\n",
        "    tools=[\n",
        "        ToolRef(\n",
        "            type=ToolType.ACTION,\n",
        "            id=action.action_id,\n",
        "        )\n",
        "    ],\n",
        "    retrievals=[],\n",
        "    metadata={\"k\": \"v\"},\n",
        ")\n",
        "print(f\"created assistant: {assistant}\\n\")"
      ],
      "metadata": {
        "id": "O60nWFUayJ9N"
      },
      "execution_count": null,
      "outputs": []
    },
    {
      "cell_type": "markdown",
      "source": [
        "## Start a Chat"
      ],
      "metadata": {
        "id": "TXMRqKpdyWjm"
      }
    },
    {
      "cell_type": "code",
      "source": [
        "chat: Chat = taskingai.assistant.create_chat(\n",
        "    assistant_id=assistant.assistant_id,\n",
        ")\n",
        "print(f\"created chat: {chat.chat_id}\\n\")\n"
      ],
      "metadata": {
        "id": "pN2vXfmnyYDv"
      },
      "execution_count": null,
      "outputs": []
    },
    {
      "cell_type": "code",
      "source": [
        "from taskingai.assistant import Message, MessageChunk\n",
        "user_input = input(\"User Input: \")\n",
        "while user_input.strip() and user_input != \"q\":\n",
        "    # create user message\n",
        "    taskingai.assistant.create_message(\n",
        "        assistant_id=assistant.assistant_id,\n",
        "        chat_id=chat.chat_id,\n",
        "        text=user_input,\n",
        "    )\n",
        "    print(f\"User: {user_input}\")\n",
        "\n",
        "    # generate assistant response\n",
        "    assistant_message: Message = taskingai.assistant.generate_message(\n",
        "        assistant_id=assistant.assistant_id,\n",
        "        chat_id=chat.chat_id,\n",
        "        system_prompt_variables={\n",
        "            \"language\": \"English\"\n",
        "        }\n",
        "    )\n",
        "    print(f\"Assistant: {assistant_message.content.text}\")\n",
        "    time.sleep(2)\n",
        "    # quit by input 'q\n",
        "    user_input = input(\"User: \")"
      ],
      "metadata": {
        "id": "X1qSmNYNyi36"
      },
      "execution_count": null,
      "outputs": []
    },
    {
      "cell_type": "code",
      "source": [
        "user_input = input(\"User Input: \")\n",
        "while user_input.strip() and user_input != \"q\":\n",
        "    # create user message\n",
        "    user_message = taskingai.assistant.create_message(\n",
        "        assistant_id=assistant.assistant_id,\n",
        "        chat_id=chat.chat_id,\n",
        "        text=user_input,\n",
        "    )\n",
        "    print(f\"User: {user_input} ({user_message.message_id})\")\n",
        "\n",
        "    # generate assistant response\n",
        "    assistant_message_response = taskingai.assistant.generate_message(\n",
        "        assistant_id=assistant.assistant_id,\n",
        "        chat_id=chat.chat_id,\n",
        "        system_prompt_variables={\n",
        "            \"language\": \"English\"\n",
        "        },\n",
        "        stream=True,\n",
        "    )\n",
        "\n",
        "    print(f\"Assistant:\", end=\" \", flush=True)\n",
        "    for item in assistant_message_response:\n",
        "        if isinstance(item, MessageChunk):\n",
        "            print(item.delta, end=\"\", flush=True)\n",
        "        elif isinstance(item, Message):\n",
        "            print(f\" ({item.message_id})\")\n",
        "\n",
        "    time.sleep(2)\n",
        "    # quit by input 'q\n",
        "    user_input = input(\"User: \")"
      ],
      "metadata": {
        "id": "OO-YUAxZyjrK"
      },
      "execution_count": null,
      "outputs": []
    },
    {
      "cell_type": "code",
      "source": [
        "# list messages\n",
        "messages = taskingai.assistant.list_messages(\n",
        "    assistant_id=assistant.assistant_id,\n",
        "    chat_id=chat.chat_id,\n",
        "    order=\"asc\"\n",
        ")\n",
        "for message in messages:\n",
        "    print(f\"{message.role}: {message.content.text}\")"
      ],
      "metadata": {
        "id": "QKbOUP9Vyo0M"
      },
      "execution_count": null,
      "outputs": []
    },
    {
      "cell_type": "code",
      "source": [
        "# delete assistant\n",
        "taskingai.assistant.delete_assistant(\n",
        "    assistant_id=assistant.assistant_id,\n",
        ")"
      ],
      "metadata": {
        "id": "30iCPwVIytSA"
      },
      "execution_count": null,
      "outputs": []
    }
  ]
}